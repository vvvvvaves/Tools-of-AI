{
 "cells": [
  {
   "cell_type": "code",
   "execution_count": 41,
   "id": "bef73049",
   "metadata": {},
   "outputs": [],
   "source": [
    "import pandas as pd\n",
    "import matplotlib.pyplot as plt"
   ]
  },
  {
   "cell_type": "code",
   "execution_count": 42,
   "id": "0774d2a1",
   "metadata": {},
   "outputs": [],
   "source": [
    "data = pd.read_csv('IRIS.csv')"
   ]
  },
  {
   "cell_type": "code",
   "execution_count": 43,
   "id": "5c6b67ee",
   "metadata": {},
   "outputs": [],
   "source": [
    "train = pd.DataFrame(columns=data.columns)\n",
    "test = pd.DataFrame(columns=data.columns)\n",
    "for class_ in data.species.unique():\n",
    "    sample = data.loc[data.species==class_].sample(frac=1)\n",
    "    i_third = sample.shape[0] // 3 + 1\n",
    "    train = pd.concat([train, sample.iloc[i_third:]])\n",
    "    test = pd.concat([test, sample.iloc[:i_third]])"
   ]
  },
  {
   "cell_type": "code",
   "execution_count": 44,
   "id": "1d60e608",
   "metadata": {},
   "outputs": [],
   "source": [
    "X_train, y_train = train.drop('species', axis=1).values.tolist(), train.species.values.tolist()\n",
    "X_test, y_test = test.drop('species', axis=1).values.tolist(), test.species.values.tolist()"
   ]
  },
  {
   "cell_type": "code",
   "execution_count": 235,
   "id": "be0374fb",
   "metadata": {},
   "outputs": [],
   "source": [
    "class arr:\n",
    "    def __init__(self, list_):\n",
    "        if arr.dimentions(list_) and arr.numeric(list_):\n",
    "            self.shape = arr.shape(list_)\n",
    "            self.list_ = list_\n",
    "\n",
    "    \n",
    "    @staticmethod\n",
    "    def numeric(list_):\n",
    "        for l_ in list_:\n",
    "            for num in l_:\n",
    "                is_digit = str(num).replace('.','',1).replace('-','',1).isdigit()\n",
    "                if not is_digit:\n",
    "                    raise ValueError('arr object can only be initialized with two-dimentional, numerical, rectangular lists.') \n",
    "        return True\n",
    "\n",
    "    @staticmethod\n",
    "    def dimentions(list_):\n",
    "        if type(list_) is list and type(list_[0]) is list:\n",
    "            iterator = iter(list_)\n",
    "            length = len(next(iterator))\n",
    "            if not all(len(l_) == length for l_ in iterator):\n",
    "                 raise ValueError('arr object can only be initialized with two-dimentional, numerical, rectangular lists.')\n",
    "            else:\n",
    "                    return True\n",
    "        else: \n",
    "            raise ValueError('arr object can only be initialized with two-dimentional, numerical, rectangular lists.')\n",
    "    @staticmethod\n",
    "    def shape(list_):\n",
    "        return (len(list_), len(list_[0]))\n",
    "    \n",
    "    @staticmethod\n",
    "    def distance(o1, o2):\n",
    "        if o1.shape[0] != 1 or o2.shape[0] != 1:\n",
    "            raise ValueError('distance function only supports distances between two arr ojects of shape (1, k).')\n",
    "        elif o1.shape[1] != o2.shape[1]:\n",
    "            raise ValueError('distance can only be calculated for two arr objects of similar k, where k is in shape(1,k).')\n",
    "        else:\n",
    "            distance_=0\n",
    "            for i in range(o1.shape[1]):\n",
    "                distance_ += (o1[0][i]-o2[0][i]) ** 2\n",
    "            \n",
    "            distance_ = distance_ ** (1/2)\n",
    "            return distance_\n",
    "    \n",
    "    @staticmethod\n",
    "    def reshape(list_, shape):\n",
    "        if len(shape) != 2:\n",
    "            raise ValueError('arr objects can only have (n, k) shape.')\n",
    "        flattened = arr.flatten(list_)\n",
    "        \n",
    "        if shape[0] == -1:\n",
    "            shape[0] = len(flattened) // shape[1]\n",
    "        \n",
    "        if shape[1] == -1:\n",
    "            shape[1] = len(flattened) // shape[0]\n",
    "        \n",
    "        n_k = shape[0]*shape[1]\n",
    "        if len(flattened) != n_k:\n",
    "            raise ValueError(f'shape {shape} is not possible for list with {len(flattened)} length.')\n",
    "        reshaped = []\n",
    "        for i in range(shape[0]):\n",
    "            row = flattened[:shape[1]]\n",
    "            reshaped += [row if type(row) is list else [row]]\n",
    "            flattened = flattened[shape[1]:]\n",
    "        return reshaped    \n",
    "    \n",
    "    @staticmethod\n",
    "    def flatten(list_):\n",
    "        is_list = type(list_[0]) is list\n",
    "        flattened = []           \n",
    "        if not is_list:\n",
    "                    return list_\n",
    "        else:\n",
    "            for l in list_:\n",
    "                   flattened += arr.flatten(l)\n",
    "        return flattened  \n",
    "    \n",
    "    @staticmethod\n",
    "    def generate(shape, value = -1):\n",
    "        if len(shape) != 2:\n",
    "            raise ValueError('arr objects can only have (n, k) shape.')\n",
    "        \n",
    "        list_ = []\n",
    "        for i in range(shape[0]):\n",
    "            row = [value]*shape[1]\n",
    "            list_+= [row]\n",
    "        return arr(list_)\n",
    "    \n",
    "    def __sub__(self, other:arr):\n",
    "        if self.shape != other.shape:\n",
    "            raise ValueError(f'Can\\'t subtract arr objects with different shapes: {self.shape} != {other.shape}')\n",
    "        else:\n",
    "            output = arr.generate(self.shape)\n",
    "            for i in range(self.shape[0]):\n",
    "                for j in range(self.shape[1]):\n",
    "                    output[i,j] = self[i,j] - other[i,j]\n",
    "            return output \n",
    "        \n",
    "    def __getitem__(self, index):\n",
    "        if type(index) == int:\n",
    "            return arr([self.list_[index]])\n",
    "        else:\n",
    "            i, j = index\n",
    "            return self.list_[i][j]\n",
    "        \n",
    "    def __setitem__(self, index, value):\n",
    "        if type(index) == tuple:\n",
    "            i, j = index\n",
    "            self.list_[i][j] = value\n",
    "        else:\n",
    "            self.list_[index] = value\n",
    "    \n",
    "    def __str__(self):\n",
    "        return self.__repr__()\n",
    "            \n",
    "    def __repr__(self):\n",
    "        str_=f'[{self.list_[0]}'\n",
    "        if self.shape[0] > 10:\n",
    "            for i in range(4):\n",
    "                str_ += '\\n'+ f'    {self.list_[i]}' \n",
    "            str_+='\\n    ...'\n",
    "            for i in range(5, 0, -1):\n",
    "                str_ += '\\n'+ f'    {self.list_[i]}' \n",
    "            return f'arr({str_})'   \n",
    "        else:    \n",
    "            for i in range(1,self.shape[0]):\n",
    "                str_ += '\\n'+ f'    {self.list_[i]}'\n",
    "            return f'arr({str_}])'"
   ]
  },
  {
   "cell_type": "code",
   "execution_count": 236,
   "id": "6fdad34e",
   "metadata": {},
   "outputs": [
    {
     "data": {
      "text/plain": [
       "arr([[1, 1]])"
      ]
     },
     "execution_count": 236,
     "metadata": {},
     "output_type": "execute_result"
    }
   ],
   "source": [
    "obj = arr.generate([2,2])\n",
    "obj[0]-arr([-1])"
   ]
  },
  {
   "cell_type": "code",
   "execution_count": 237,
   "id": "5c6a9aaf",
   "metadata": {},
   "outputs": [
    {
     "data": {
      "text/plain": [
       "array([1, 4])"
      ]
     },
     "execution_count": 237,
     "metadata": {},
     "output_type": "execute_result"
    }
   ],
   "source": [
    "import numpy as np\n",
    "np.array([[1,2,3], [4,5,6]])[:,1]-np.array([1,1])"
   ]
  },
  {
   "cell_type": "code",
   "execution_count": 118,
   "id": "30f2a9bd",
   "metadata": {},
   "outputs": [],
   "source": [
    "class SimpleEncoder:\n",
    "    def transform(self, list_):\n",
    "        if arr.dimentions:\n",
    "            self.shape = arr.shape(list_)\n",
    "            flattened = arr.flatten(list_)\n",
    "            self.categories = list(set(flattened))\n",
    "            for i in range(len(self.categories)):\n",
    "                flattened = [i if self.categories[i] == item else item for item in flattened]\n",
    "            \n",
    "            return arr.reshape(flattened, self.shape)"
   ]
  },
  {
   "cell_type": "code",
   "execution_count": 84,
   "id": "aa982eae",
   "metadata": {},
   "outputs": [],
   "source": [
    "class KNN:\n",
    "    def __init__(self, k = 3):\n",
    "        self.k = k\n",
    "    def fit(self, X: arr, y: arr):\n",
    "        self.X = X\n",
    "        self.y = y\n",
    "        \n",
    "    def predict(self, X: arr):\n",
    "        for obj in X:\n",
    "            distances_from_obj = []\n",
    "            for obj_train in self.X:\n",
    "                dist = arr.distance(obj, obj_train)\n",
    "                distances_from_obj+=[dist]\n",
    "        return distances_from_obj        "
   ]
  },
  {
   "cell_type": "code",
   "execution_count": 85,
   "id": "f6db6070",
   "metadata": {},
   "outputs": [],
   "source": [
    "encoder = SimpleEncoder()\n",
    "encoded = encoder.transform(arr.reshape(y_train, [-1, 1]))"
   ]
  },
  {
   "cell_type": "code",
   "execution_count": 96,
   "id": "38ea8b3f",
   "metadata": {},
   "outputs": [
    {
     "ename": "TypeError",
     "evalue": "cannot unpack non-iterable int object",
     "output_type": "error",
     "traceback": [
      "\u001b[1;31m---------------------------------------------------------------------------\u001b[0m",
      "\u001b[1;31mTypeError\u001b[0m                                 Traceback (most recent call last)",
      "Cell \u001b[1;32mIn[96], line 3\u001b[0m\n\u001b[0;32m      1\u001b[0m knn \u001b[38;5;241m=\u001b[39m KNN()\n\u001b[0;32m      2\u001b[0m knn\u001b[38;5;241m.\u001b[39mfit(arr(X_train), arr(encoded))\n\u001b[1;32m----> 3\u001b[0m \u001b[43mknn\u001b[49m\u001b[38;5;241;43m.\u001b[39;49m\u001b[43mpredict\u001b[49m\u001b[43m(\u001b[49m\u001b[43marr\u001b[49m\u001b[43m(\u001b[49m\u001b[43mX_test\u001b[49m\u001b[43m)\u001b[49m\u001b[43m)\u001b[49m\n",
      "Cell \u001b[1;32mIn[84], line 12\u001b[0m, in \u001b[0;36mKNN.predict\u001b[1;34m(self, X)\u001b[0m\n\u001b[0;32m     10\u001b[0m     distances_from_obj \u001b[38;5;241m=\u001b[39m []\n\u001b[0;32m     11\u001b[0m     \u001b[38;5;28;01mfor\u001b[39;00m obj_train \u001b[38;5;129;01min\u001b[39;00m \u001b[38;5;28mself\u001b[39m\u001b[38;5;241m.\u001b[39mX:\n\u001b[1;32m---> 12\u001b[0m         dist \u001b[38;5;241m=\u001b[39m \u001b[43marr\u001b[49m\u001b[38;5;241;43m.\u001b[39;49m\u001b[43mdistance\u001b[49m\u001b[43m(\u001b[49m\u001b[43mobj\u001b[49m\u001b[43m,\u001b[49m\u001b[43m \u001b[49m\u001b[43mobj_train\u001b[49m\u001b[43m)\u001b[49m\n\u001b[0;32m     13\u001b[0m         distances_from_obj\u001b[38;5;241m+\u001b[39m\u001b[38;5;241m=\u001b[39m[dist]\n\u001b[0;32m     14\u001b[0m \u001b[38;5;28;01mreturn\u001b[39;00m distances_from_obj\n",
      "Cell \u001b[1;32mIn[95], line 41\u001b[0m, in \u001b[0;36marr.distance\u001b[1;34m(o1, o2)\u001b[0m\n\u001b[0;32m     39\u001b[0m distance_\u001b[38;5;241m=\u001b[39m\u001b[38;5;241m0\u001b[39m\n\u001b[0;32m     40\u001b[0m \u001b[38;5;28;01mfor\u001b[39;00m i \u001b[38;5;129;01min\u001b[39;00m \u001b[38;5;28mrange\u001b[39m(o1\u001b[38;5;241m.\u001b[39mshape[\u001b[38;5;241m1\u001b[39m]):\n\u001b[1;32m---> 41\u001b[0m     distance_ \u001b[38;5;241m+\u001b[39m\u001b[38;5;241m=\u001b[39m (\u001b[43mo1\u001b[49m\u001b[43m[\u001b[49m\u001b[38;5;241;43m0\u001b[39;49m\u001b[43m]\u001b[49m\u001b[43m[\u001b[49m\u001b[43mi\u001b[49m\u001b[43m]\u001b[49m\u001b[38;5;241;43m-\u001b[39;49m\u001b[43mo2\u001b[49m\u001b[43m[\u001b[49m\u001b[38;5;241;43m0\u001b[39;49m\u001b[43m]\u001b[49m\u001b[43m[\u001b[49m\u001b[43mi\u001b[49m\u001b[43m]\u001b[49m) \u001b[38;5;241m*\u001b[39m\u001b[38;5;241m*\u001b[39m \u001b[38;5;241m2\u001b[39m\n\u001b[0;32m     43\u001b[0m distance_ \u001b[38;5;241m=\u001b[39m distance_ \u001b[38;5;241m*\u001b[39m\u001b[38;5;241m*\u001b[39m (\u001b[38;5;241m1\u001b[39m\u001b[38;5;241m/\u001b[39m\u001b[38;5;241m2\u001b[39m)\n\u001b[0;32m     44\u001b[0m \u001b[38;5;28;01mreturn\u001b[39;00m distance_\n",
      "Cell \u001b[1;32mIn[95], line 104\u001b[0m, in \u001b[0;36marr.__sub__\u001b[1;34m(self, other)\u001b[0m\n\u001b[0;32m    102\u001b[0m \u001b[38;5;28;01mfor\u001b[39;00m i \u001b[38;5;129;01min\u001b[39;00m \u001b[38;5;28mrange\u001b[39m(\u001b[38;5;28mself\u001b[39m\u001b[38;5;241m.\u001b[39mshape[\u001b[38;5;241m0\u001b[39m]):\n\u001b[0;32m    103\u001b[0m     \u001b[38;5;28;01mfor\u001b[39;00m j \u001b[38;5;129;01min\u001b[39;00m \u001b[38;5;28mrange\u001b[39m(\u001b[38;5;28mself\u001b[39m\u001b[38;5;241m.\u001b[39mshape[\u001b[38;5;241m1\u001b[39m]):\n\u001b[1;32m--> 104\u001b[0m         \u001b[43moutput\u001b[49m\u001b[43m[\u001b[49m\u001b[43mi\u001b[49m\u001b[43m]\u001b[49m\u001b[43m[\u001b[49m\u001b[43mj\u001b[49m\u001b[43m]\u001b[49m \u001b[38;5;241m=\u001b[39m \u001b[38;5;28mself\u001b[39m\u001b[38;5;241m.\u001b[39mlist_[i][j] \u001b[38;5;241m-\u001b[39m \u001b[38;5;28mself\u001b[39m\u001b[38;5;241m.\u001b[39mlist_[i][j]\n\u001b[0;32m    105\u001b[0m \u001b[38;5;28;01mreturn\u001b[39;00m output\n",
      "Cell \u001b[1;32mIn[95], line 94\u001b[0m, in \u001b[0;36marr.__setitem__\u001b[1;34m(self, index, value)\u001b[0m\n\u001b[0;32m     93\u001b[0m \u001b[38;5;28;01mdef\u001b[39;00m \u001b[38;5;21m__setitem__\u001b[39m(\u001b[38;5;28mself\u001b[39m, index, value):\n\u001b[1;32m---> 94\u001b[0m     i, j \u001b[38;5;241m=\u001b[39m index\n\u001b[0;32m     95\u001b[0m     \u001b[38;5;28mself\u001b[39m\u001b[38;5;241m.\u001b[39mlist_[i][j] \u001b[38;5;241m=\u001b[39m value\n",
      "\u001b[1;31mTypeError\u001b[0m: cannot unpack non-iterable int object"
     ]
    }
   ],
   "source": [
    "knn = KNN()\n",
    "knn.fit(arr(X_train), arr(encoded))\n",
    "knn.predict(arr(X_test))"
   ]
  },
  {
   "cell_type": "code",
   "execution_count": 97,
   "id": "14eb96bb",
   "metadata": {},
   "outputs": [],
   "source": [
    "obj = arr.generate([1,2])"
   ]
  },
  {
   "cell_type": "code",
   "execution_count": 102,
   "id": "242cd3d9",
   "metadata": {},
   "outputs": [
    {
     "data": {
      "text/plain": [
       "[-1, -1]"
      ]
     },
     "execution_count": 102,
     "metadata": {},
     "output_type": "execute_result"
    }
   ],
   "source": [
    "obj.list_[0]"
   ]
  },
  {
   "cell_type": "code",
   "execution_count": null,
   "id": "faa8c00b",
   "metadata": {},
   "outputs": [],
   "source": []
  }
 ],
 "metadata": {
  "kernelspec": {
   "display_name": "Python 3 (ipykernel)",
   "language": "python",
   "name": "python3"
  },
  "language_info": {
   "codemirror_mode": {
    "name": "ipython",
    "version": 3
   },
   "file_extension": ".py",
   "mimetype": "text/x-python",
   "name": "python",
   "nbconvert_exporter": "python",
   "pygments_lexer": "ipython3",
   "version": "3.10.10"
  }
 },
 "nbformat": 4,
 "nbformat_minor": 5
}
